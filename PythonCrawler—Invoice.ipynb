{
 "cells": [
  {
   "cell_type": "code",
   "execution_count": 180,
   "id": "16b41728",
   "metadata": {},
   "outputs": [],
   "source": [
    "import requests\n",
    "from bs4 import BeautifulSoup\n",
    "from time import sleep\n",
    "import pandas as pd"
   ]
  },
  {
   "cell_type": "code",
   "execution_count": 181,
   "id": "20338954",
   "metadata": {},
   "outputs": [],
   "source": [
    "url=\"https://invoice.etax.nat.gov.tw/\"\n",
    "headers={\"user-agent\":\"Mozilla/5.0 (Windows NT 10.0; Win64; x64) AppleWebKit/537.36 (KHTML,like Gecko) Chrome/64.0.3282.186 Safari/537.36 \"}\n",
    "re=requests.get(url,headers=headers)\n",
    "re.encoding=\"utf-8\"\n",
    "sp=BeautifulSoup(re.text,'lxml')"
   ]
  },
  {
   "cell_type": "code",
   "execution_count": 182,
   "id": "7694c634",
   "metadata": {},
   "outputs": [],
   "source": [
    "res=sp.find(\"div\",class_=\"container-fluid etw-bgbox mb-4\")\n",
    "num=res.find_all(\"tr\",limit=10)"
   ]
  },
  {
   "cell_type": "code",
   "execution_count": 191,
   "id": "a036fbe8",
   "metadata": {},
   "outputs": [
    {
     "data": {
      "text/plain": [
       "'111年01-02月中獎號碼單'"
      ]
     },
     "execution_count": 191,
     "metadata": {},
     "output_type": "execute_result"
    }
   ],
   "source": [
    "period=sp.find(\"div\",class_=\"carousel-item active\").text\n",
    "period"
   ]
  },
  {
   "cell_type": "code",
   "execution_count": 184,
   "id": "f17ab1e8",
   "metadata": {},
   "outputs": [
    {
     "data": {
      "text/plain": [
       "[['特別獎', '18927486', '同期統一發票收執聯8位數號碼與特別獎號碼相同者獎金1,000萬元'],\n",
       " ['特獎', '82050976', '同期統一發票收執聯8位數號碼與特獎號碼相同者獎金200萬元']]"
      ]
     },
     "execution_count": 184,
     "metadata": {},
     "output_type": "execute_result"
    }
   ],
   "source": [
    "toplist=[]\n",
    "for nums in num[1:3]:\n",
    "    title=nums.find(\"td\").text\n",
    "    number=nums.find(\"span\").text\n",
    "    price=nums.find(\"p\",class_=\"mb-0\").text\n",
    "    list1=[title,number,price]  \n",
    "    toplist.append(list1)\n",
    "toplist"
   ]
  },
  {
   "cell_type": "code",
   "execution_count": 185,
   "id": "67577e32",
   "metadata": {
    "scrolled": true
   },
   "outputs": [
    {
     "data": {
      "text/plain": [
       "[['特別獎', '18927486', '同期統一發票收執聯8位數號碼與特別獎號碼相同者獎金1,000萬元'],\n",
       " ['特獎', '82050976', '同期統一發票收執聯8位數號碼與特獎號碼相同者獎金200萬元'],\n",
       " ['頭獎',\n",
       "  ['\\n46596321', '\\n75704516', '\\n48632657'],\n",
       "  '同期統一發票收執聯8位數號碼與頭獎號碼相同者獎金20萬元'],\n",
       " ['二獎',\n",
       "  ['\\n46596321', '\\n75704516', '\\n48632657'],\n",
       "  '同期統一發票收執聯末7 位數號碼與頭獎中獎號碼末7 位相同者各得獎金4萬元'],\n",
       " ['三獎',\n",
       "  ['\\n46596321', '\\n75704516', '\\n48632657'],\n",
       "  '同期統一發票收執聯末6 位數號碼與頭獎中獎號碼末6 位相同者各得獎金1萬元'],\n",
       " ['四獎',\n",
       "  ['\\n46596321', '\\n75704516', '\\n48632657'],\n",
       "  '同期統一發票收執聯末5 位數號碼與頭獎中獎號碼末5 位相同者各得獎金4千元'],\n",
       " ['五獎',\n",
       "  ['\\n46596321', '\\n75704516', '\\n48632657'],\n",
       "  '同期統一發票收執聯末4 位數號碼與頭獎中獎號碼末4 位相同者各得獎金1千元'],\n",
       " ['六獎',\n",
       "  ['\\n46596321', '\\n75704516', '\\n48632657'],\n",
       "  '同期統一發票收執聯末3 位數號碼與 頭獎中獎號碼末3 位相同者各得獎金2百元']]"
      ]
     },
     "execution_count": 185,
     "metadata": {},
     "output_type": "execute_result"
    }
   ],
   "source": [
    "l=[]\n",
    "for nums in num[3:9]:\n",
    "        title=nums.find(\"td\").text\n",
    "        number=nums.find_all(\"p\",class_=\"etw-tbiggest mb-md-4\")\n",
    "        for numlist in number:\n",
    "            l.append(numlist.text)\n",
    "        price=nums.find(\"p\",class_=\"mb-0\").text\n",
    "        list2=[title,l,price]  \n",
    "        toplist.append(list2)\n",
    "toplist"
   ]
  },
  {
   "cell_type": "code",
   "execution_count": 192,
   "id": "52af0360",
   "metadata": {},
   "outputs": [
    {
     "data": {
      "text/html": [
       "<div>\n",
       "<style scoped>\n",
       "    .dataframe tbody tr th:only-of-type {\n",
       "        vertical-align: middle;\n",
       "    }\n",
       "\n",
       "    .dataframe tbody tr th {\n",
       "        vertical-align: top;\n",
       "    }\n",
       "\n",
       "    .dataframe thead th {\n",
       "        text-align: right;\n",
       "    }\n",
       "</style>\n",
       "<table border=\"1\" class=\"dataframe\">\n",
       "  <thead>\n",
       "    <tr style=\"text-align: right;\">\n",
       "      <th></th>\n",
       "      <th>Type</th>\n",
       "      <th>Number</th>\n",
       "      <th>Award Money</th>\n",
       "    </tr>\n",
       "  </thead>\n",
       "  <tbody>\n",
       "    <tr>\n",
       "      <th>0</th>\n",
       "      <td>特別獎</td>\n",
       "      <td>18927486</td>\n",
       "      <td>同期統一發票收執聯8位數號碼與特別獎號碼相同者獎金1,000萬元</td>\n",
       "    </tr>\n",
       "    <tr>\n",
       "      <th>1</th>\n",
       "      <td>特獎</td>\n",
       "      <td>82050976</td>\n",
       "      <td>同期統一發票收執聯8位數號碼與特獎號碼相同者獎金200萬元</td>\n",
       "    </tr>\n",
       "    <tr>\n",
       "      <th>2</th>\n",
       "      <td>頭獎</td>\n",
       "      <td>[\\n46596321, \\n75704516, \\n48632657]</td>\n",
       "      <td>同期統一發票收執聯8位數號碼與頭獎號碼相同者獎金20萬元</td>\n",
       "    </tr>\n",
       "    <tr>\n",
       "      <th>3</th>\n",
       "      <td>二獎</td>\n",
       "      <td>[\\n46596321, \\n75704516, \\n48632657]</td>\n",
       "      <td>同期統一發票收執聯末7 位數號碼與頭獎中獎號碼末7 位相同者各得獎金4萬元</td>\n",
       "    </tr>\n",
       "    <tr>\n",
       "      <th>4</th>\n",
       "      <td>三獎</td>\n",
       "      <td>[\\n46596321, \\n75704516, \\n48632657]</td>\n",
       "      <td>同期統一發票收執聯末6 位數號碼與頭獎中獎號碼末6 位相同者各得獎金1萬元</td>\n",
       "    </tr>\n",
       "    <tr>\n",
       "      <th>5</th>\n",
       "      <td>四獎</td>\n",
       "      <td>[\\n46596321, \\n75704516, \\n48632657]</td>\n",
       "      <td>同期統一發票收執聯末5 位數號碼與頭獎中獎號碼末5 位相同者各得獎金4千元</td>\n",
       "    </tr>\n",
       "    <tr>\n",
       "      <th>6</th>\n",
       "      <td>五獎</td>\n",
       "      <td>[\\n46596321, \\n75704516, \\n48632657]</td>\n",
       "      <td>同期統一發票收執聯末4 位數號碼與頭獎中獎號碼末4 位相同者各得獎金1千元</td>\n",
       "    </tr>\n",
       "    <tr>\n",
       "      <th>7</th>\n",
       "      <td>六獎</td>\n",
       "      <td>[\\n46596321, \\n75704516, \\n48632657]</td>\n",
       "      <td>同期統一發票收執聯末3 位數號碼與 頭獎中獎號碼末3 位相同者各得獎金2百元</td>\n",
       "    </tr>\n",
       "  </tbody>\n",
       "</table>\n",
       "</div>"
      ],
      "text/plain": [
       "  Type                                Number  \\\n",
       "0  特別獎                              18927486   \n",
       "1   特獎                              82050976   \n",
       "2   頭獎  [\\n46596321, \\n75704516, \\n48632657]   \n",
       "3   二獎  [\\n46596321, \\n75704516, \\n48632657]   \n",
       "4   三獎  [\\n46596321, \\n75704516, \\n48632657]   \n",
       "5   四獎  [\\n46596321, \\n75704516, \\n48632657]   \n",
       "6   五獎  [\\n46596321, \\n75704516, \\n48632657]   \n",
       "7   六獎  [\\n46596321, \\n75704516, \\n48632657]   \n",
       "\n",
       "                              Award Money  \n",
       "0        同期統一發票收執聯8位數號碼與特別獎號碼相同者獎金1,000萬元  \n",
       "1           同期統一發票收執聯8位數號碼與特獎號碼相同者獎金200萬元  \n",
       "2            同期統一發票收執聯8位數號碼與頭獎號碼相同者獎金20萬元  \n",
       "3   同期統一發票收執聯末7 位數號碼與頭獎中獎號碼末7 位相同者各得獎金4萬元  \n",
       "4   同期統一發票收執聯末6 位數號碼與頭獎中獎號碼末6 位相同者各得獎金1萬元  \n",
       "5   同期統一發票收執聯末5 位數號碼與頭獎中獎號碼末5 位相同者各得獎金4千元  \n",
       "6   同期統一發票收執聯末4 位數號碼與頭獎中獎號碼末4 位相同者各得獎金1千元  \n",
       "7  同期統一發票收執聯末3 位數號碼與 頭獎中獎號碼末3 位相同者各得獎金2百元  "
      ]
     },
     "execution_count": 192,
     "metadata": {},
     "output_type": "execute_result"
    }
   ],
   "source": [
    "df = pd.DataFrame(toplist, columns = ['Type',\"Number\",\"Award Money\"])\n",
    "\n",
    "df"
   ]
  },
  {
   "cell_type": "markdown",
   "id": "0dc25b7a",
   "metadata": {},
   "source": [
    "# 資料清洗"
   ]
  },
  {
   "cell_type": "code",
   "execution_count": 188,
   "id": "67e4886a",
   "metadata": {},
   "outputs": [
    {
     "data": {
      "text/html": [
       "<div>\n",
       "<style scoped>\n",
       "    .dataframe tbody tr th:only-of-type {\n",
       "        vertical-align: middle;\n",
       "    }\n",
       "\n",
       "    .dataframe tbody tr th {\n",
       "        vertical-align: top;\n",
       "    }\n",
       "\n",
       "    .dataframe thead th {\n",
       "        text-align: right;\n",
       "    }\n",
       "</style>\n",
       "<table border=\"1\" class=\"dataframe\">\n",
       "  <thead>\n",
       "    <tr style=\"text-align: right;\">\n",
       "      <th></th>\n",
       "      <th>Type</th>\n",
       "      <th>Number</th>\n",
       "      <th>Award Money</th>\n",
       "    </tr>\n",
       "  </thead>\n",
       "  <tbody>\n",
       "    <tr>\n",
       "      <th>0</th>\n",
       "      <td>特別獎</td>\n",
       "      <td>18927486</td>\n",
       "      <td>同期統一發票收執聯8位數號碼與特別獎號碼相同者獎金1,000萬元</td>\n",
       "    </tr>\n",
       "    <tr>\n",
       "      <th>1</th>\n",
       "      <td>特獎</td>\n",
       "      <td>82050976</td>\n",
       "      <td>同期統一發票收執聯8位數號碼與特獎號碼相同者獎金200萬元</td>\n",
       "    </tr>\n",
       "    <tr>\n",
       "      <th>2</th>\n",
       "      <td>頭獎</td>\n",
       "      <td>46596321,75704516,48632657</td>\n",
       "      <td>同期統一發票收執聯8位數號碼與頭獎號碼相同者獎金20萬元</td>\n",
       "    </tr>\n",
       "    <tr>\n",
       "      <th>3</th>\n",
       "      <td>二獎</td>\n",
       "      <td></td>\n",
       "      <td>同期統一發票收執聯末7 位數號碼與頭獎中獎號碼末7 位相同者各得獎金4萬元</td>\n",
       "    </tr>\n",
       "    <tr>\n",
       "      <th>4</th>\n",
       "      <td>三獎</td>\n",
       "      <td></td>\n",
       "      <td>同期統一發票收執聯末6 位數號碼與頭獎中獎號碼末6 位相同者各得獎金1萬元</td>\n",
       "    </tr>\n",
       "    <tr>\n",
       "      <th>5</th>\n",
       "      <td>四獎</td>\n",
       "      <td></td>\n",
       "      <td>同期統一發票收執聯末5 位數號碼與頭獎中獎號碼末5 位相同者各得獎金4千元</td>\n",
       "    </tr>\n",
       "    <tr>\n",
       "      <th>6</th>\n",
       "      <td>五獎</td>\n",
       "      <td></td>\n",
       "      <td>同期統一發票收執聯末4 位數號碼與頭獎中獎號碼末4 位相同者各得獎金1千元</td>\n",
       "    </tr>\n",
       "    <tr>\n",
       "      <th>7</th>\n",
       "      <td>六獎</td>\n",
       "      <td></td>\n",
       "      <td>同期統一發票收執聯末3 位數號碼與 頭獎中獎號碼末3 位相同者各得獎金2百元</td>\n",
       "    </tr>\n",
       "  </tbody>\n",
       "</table>\n",
       "</div>"
      ],
      "text/plain": [
       "  Type                      Number                             Award Money\n",
       "0  特別獎                    18927486        同期統一發票收執聯8位數號碼與特別獎號碼相同者獎金1,000萬元\n",
       "1   特獎                    82050976           同期統一發票收執聯8位數號碼與特獎號碼相同者獎金200萬元\n",
       "2   頭獎  46596321,75704516,48632657            同期統一發票收執聯8位數號碼與頭獎號碼相同者獎金20萬元\n",
       "3   二獎                               同期統一發票收執聯末7 位數號碼與頭獎中獎號碼末7 位相同者各得獎金4萬元\n",
       "4   三獎                               同期統一發票收執聯末6 位數號碼與頭獎中獎號碼末6 位相同者各得獎金1萬元\n",
       "5   四獎                               同期統一發票收執聯末5 位數號碼與頭獎中獎號碼末5 位相同者各得獎金4千元\n",
       "6   五獎                               同期統一發票收執聯末4 位數號碼與頭獎中獎號碼末4 位相同者各得獎金1千元\n",
       "7   六獎                              同期統一發票收執聯末3 位數號碼與 頭獎中獎號碼末3 位相同者各得獎金2百元"
      ]
     },
     "execution_count": 188,
     "metadata": {},
     "output_type": "execute_result"
    }
   ],
   "source": [
    "df.iloc[2,1]=\"46596321,75704516,48632657\"\n",
    "df.iloc[3:8,1]=\"\"\n",
    "\n",
    "df"
   ]
  }
 ],
 "metadata": {
  "kernelspec": {
   "display_name": "Python 3 (ipykernel)",
   "language": "python",
   "name": "python3"
  },
  "language_info": {
   "codemirror_mode": {
    "name": "ipython",
    "version": 3
   },
   "file_extension": ".py",
   "mimetype": "text/x-python",
   "name": "python",
   "nbconvert_exporter": "python",
   "pygments_lexer": "ipython3",
   "version": "3.7.11"
  }
 },
 "nbformat": 4,
 "nbformat_minor": 5
}
