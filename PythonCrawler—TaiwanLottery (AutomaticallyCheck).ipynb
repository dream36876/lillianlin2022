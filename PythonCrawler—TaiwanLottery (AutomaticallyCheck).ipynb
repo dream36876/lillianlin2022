{
 "cells": [
  {
   "cell_type": "markdown",
   "id": "981997f1",
   "metadata": {},
   "source": [
    "# 抓取台灣彩券網頁"
   ]
  },
  {
   "cell_type": "code",
   "execution_count": 1,
   "id": "69d249f7",
   "metadata": {},
   "outputs": [],
   "source": [
    "from bs4 import BeautifulSoup\n",
    "import requests\n",
    "import re\n",
    "\n",
    "lotto_url='https://www.taiwanlottery.com.tw'\n",
    "r = requests.get(lotto_url)\n",
    "# print(r.text)\n",
    "sp=BeautifulSoup(r.text,'lxml') "
   ]
  },
  {
   "cell_type": "markdown",
   "id": "d5a3b812",
   "metadata": {},
   "source": [
    "----"
   ]
  },
  {
   "cell_type": "markdown",
   "id": "394c7017",
   "metadata": {},
   "source": [
    "# 目前頭獎預估金額 "
   ]
  },
  {
   "cell_type": "code",
   "execution_count": 2,
   "id": "a885a5a5",
   "metadata": {},
   "outputs": [
    {
     "name": "stdout",
     "output_type": "stream",
     "text": [
      "目前頭獎預估金額：\n",
      "威力彩： $ 0675641096\n",
      "大樂透： $ 0100000000\n"
     ]
    }
   ],
   "source": [
    "data=sp.find_all(\"div\",class_=\"top_dollar_tx\")  #最外圈的class\n",
    "jackpot1=data[0].find(\"div\",class_=\"top_dollar\")\n",
    "jackpot2=data[1].find(\"div\",class_=\"top_dollar\")\n",
    "print(\"目前頭獎預估金額：\")\n",
    "print(\"威力彩： $\",jackpot1.text)\n",
    "print(\"大樂透： $\",jackpot2.text)"
   ]
  },
  {
   "cell_type": "markdown",
   "id": "33254cb5",
   "metadata": {},
   "source": [
    "----"
   ]
  },
  {
   "cell_type": "markdown",
   "id": "8ce7a2a4",
   "metadata": {},
   "source": [
    "# 自動兌獎系統"
   ]
  },
  {
   "cell_type": "code",
   "execution_count": null,
   "id": "b81f391e",
   "metadata": {},
   "outputs": [],
   "source": [
    "def jackpotmenu():\n",
    "    print(\"================\")\n",
    "    print(\"1. 威力彩\")\n",
    "    print(\"2. 大樂透\")\n",
    "    print(\"3. 38樂合彩\")\n",
    "    print(\"4. 49樂合彩\")\n",
    "    print(\"5. BINGO BINGO\")\n",
    "    print(\"================\")\n",
    "\n",
    "\n",
    "def weili():\n",
    "    win=1  #中獎次數\n",
    "    l=[]  #把威力彩的中獎號碼 整理到一個list中\n",
    "    for i in range(6):\n",
    "        s=re.findall(\"\\d+\\.?\",weiliball[i].text)  #用正規表達式 去除每個號碼後的空格\n",
    "        for a in s:\n",
    "            l.append(a)  #去除空格後，放回List\n",
    "    for i in range(6):\n",
    "        num=input(\"請輸入您的第{}個號碼：\".format(i+1))\n",
    "        if num in l:\n",
    "            print(\"中獎！已中{}個號碼！\".format(win))\n",
    "            win=win+1\n",
    "        else:\n",
    "            print(\"沒中\")\n",
    "    s=re.findall(\"\\d+\\.?\",sp_weiliball)\n",
    "    num=input(\"請輸入您的特別號：\")\n",
    "    if num in s:\n",
    "        print(\"特別號中獎\")\n",
    "    else:\n",
    "        print(\"特別號未中獎\")\n",
    "    return\n",
    "\n",
    "def big():\n",
    "    win=1\n",
    "    l=[]\n",
    "    for i in range(6):\n",
    "        s=re.findall(\"\\d+\\.?\",bigball[i].text)\n",
    "        for a in s:\n",
    "            l.append(a)\n",
    "    for i in range(6):\n",
    "        num=input(\"請輸入您的{}個號碼：\".format(i+1))\n",
    "        if num in l:\n",
    "            print(\"中獎！已中{}個號碼！\".format(win))\n",
    "            win=win+1\n",
    "        else:\n",
    "            print(\"沒中\")\n",
    "    s=re.findall(\"\\d+\\.?\",sp_bigball)\n",
    "    num=input(\"請輸入您的特別號：\")\n",
    "    if num in s:\n",
    "        print(\"特別號中獎\")\n",
    "    else:\n",
    "        print(\"特別號未中獎\")\n",
    "    return\n",
    "\n",
    "def jackpot38():\n",
    "    win=1\n",
    "    l=[]\n",
    "    for i in range(6):\n",
    "        s=re.findall(\"\\d+\\.?\",num38[i].text)\n",
    "        for a in s:\n",
    "            l.append(a)\n",
    "    for i in range(6):\n",
    "        num=input(\"請輸入您的{}個號碼：\".format(i+1))\n",
    "        if num in l:\n",
    "            print(\"中獎！已中{}個號碼！\".format(win))\n",
    "            win=win+1\n",
    "        else:\n",
    "            print(\"沒中\")\n",
    "    return\n",
    "\n",
    "def jackpot49():\n",
    "    win=1\n",
    "    l=[]\n",
    "    for i in range(6):\n",
    "        s=re.findall(\"\\d+\\.?\",num49[i].text)\n",
    "        for a in s:\n",
    "            l.append(a)\n",
    "    for i in range(6):\n",
    "        num=input(\"請輸入您的{}個號碼：\".format(i+1))\n",
    "        if num in l:\n",
    "            print(\"中獎！已中{}個號碼！\".format(win))\n",
    "            win=win+1\n",
    "        else:\n",
    "            print(\"沒中\")\n",
    "    return\n",
    "\n",
    "def bingo2():\n",
    "    win=1\n",
    "    l=[]\n",
    "    for i in range(20):\n",
    "        s=re.findall(\"\\d+\\.?\",num_bingo[i].text)\n",
    "        for a in s:\n",
    "            l.append(a)\n",
    "    print(l)\n",
    "    for i in range(20):\n",
    "        num=input(\"請輸入您的{}個號碼：\".format(i+1))\n",
    "        if num in l:\n",
    "            print(\"中獎！已中{}個號碼！\".format(win))\n",
    "            win=win+1\n",
    "        else:\n",
    "            print(\"沒中\")\n",
    "    return\n",
    "\n",
    "while True:\n",
    "    jackpotmenu()\n",
    "    choice=int(input(\"請輸入要兌獎彩券：\"))\n",
    "    if choice==1:  \n",
    "        weili()\n",
    "    elif choice==2:\n",
    "        big()\n",
    "    elif choice==3:\n",
    "        jackpot38()\n",
    "    elif choice==4:\n",
    "        jackpot49()\n",
    "    elif choice==5:\n",
    "        bingo2()\n",
    "    else:\n",
    "        print(\"輸入錯誤\")\n",
    "        break\n",
    "\n",
    "print(\"兌獎結束\")"
   ]
  },
  {
   "cell_type": "markdown",
   "id": "3d8df924",
   "metadata": {},
   "source": [
    "----"
   ]
  },
  {
   "cell_type": "markdown",
   "id": "635628fa",
   "metadata": {},
   "source": [
    "# 威力彩"
   ]
  },
  {
   "cell_type": "code",
   "execution_count": 4,
   "id": "ca58632b",
   "metadata": {},
   "outputs": [
    {
     "name": "stdout",
     "output_type": "stream",
     "text": [
      "開獎期數： 111/4/11 第111000029期 \n",
      "開出順序：38  05  35  01  26  04  \n",
      "大小順序：01  04  05  26  35  38  \n",
      "特別號： 04 \n"
     ]
    }
   ],
   "source": [
    "data1=sp.find(\"div\",class_=\"contents_box02\")\n",
    "#用r的資料作抓取，搜尋威力彩的節點\n",
    "# contents_box02用在很多個彩券別\n",
    "# 威力彩正好是第一組\n",
    "# 所以用【find】，而不是用【find_all】\n",
    "\n",
    "title=data1.find(\"span\",class_=\"font_black15\")\n",
    "print(\"開獎期數：\",title.text)\n",
    "weiliball=data1.find_all(\"div\",class_=\"ball_tx ball_green\")  # 找到所有球的內容，所以用【find_all】\n",
    "# print(ball)  #印出來是list\n",
    "print(\"開出順序：\",end=\"\")  \n",
    "for i in range(6):\n",
    "    print(weiliball[i].text,end=' ')  #\"開出順序\"不能放同一句會跑整個迴圈\n",
    "print()\n",
    "print(\"大小順序：\",end=\"\")\n",
    "for i in range(6,12):\n",
    "    print(weiliball[i].text,end=' ')\n",
    "print()\n",
    "\n",
    "sp_weiliball=data1.find(\"div\",class_=\"ball_red\").text  # 抓特別號\n",
    "print(\"特別號：\",sp_weiliball)"
   ]
  },
  {
   "cell_type": "markdown",
   "id": "5edea65f",
   "metadata": {},
   "source": [
    "------"
   ]
  },
  {
   "cell_type": "markdown",
   "id": "09aea032",
   "metadata": {},
   "source": [
    "# BINGO BINGO"
   ]
  },
  {
   "cell_type": "code",
   "execution_count": 5,
   "id": "858a7ab7",
   "metadata": {},
   "outputs": [
    {
     "name": "stdout",
     "output_type": "stream",
     "text": [
      "開獎期數： 111/4/12 第111020565期 \n",
      "開出獎號：01  03  05  06  11  13  15  18  26  28  36  38  39  49  50  51  58  59  76  77  \n",
      "超級獎號： 59\n",
      "猜大小： 小\n",
      "猜單雙： 小單\n"
     ]
    }
   ],
   "source": [
    "# BINGO BINGO是content_box01的第一組\n",
    "data1=sp.find(\"div\",class_=\"contents_box01\")\n",
    "\n",
    "title=data1.find(\"span\",class_=\"font_black15\")\n",
    "print(\"開獎期數：\",title.text)\n",
    "num_bingo=data1.find_all(\"div\",class_=\"ball_tx ball_yellow\") \n",
    "print(\"開出獎號：\",end=\"\")\n",
    "for i in range(20):\n",
    "    print(num_bingo[i].text,end=' ')\n",
    "print()\n",
    "sp_num=data1.find(\"div\",class_=\"ball_red\").text\n",
    "print(\"超級獎號：\",sp_num)\n",
    "guest1=data1.find(\"div\",class_=\"ball_blue_BB1\").text\n",
    "print(\"猜大小：\",guest1)\n",
    "guest2=data1.find(\"div\",class_=\"ball_blue_BB2\")\n",
    "print(\"猜單雙：\",guest2.text)"
   ]
  },
  {
   "cell_type": "markdown",
   "id": "daf1c9a3",
   "metadata": {},
   "source": [
    "----------------------------------"
   ]
  },
  {
   "cell_type": "markdown",
   "id": "39015f65",
   "metadata": {},
   "source": [
    "# 雙贏彩"
   ]
  },
  {
   "cell_type": "code",
   "execution_count": 6,
   "id": "13b9db26",
   "metadata": {},
   "outputs": [
    {
     "name": "stdout",
     "output_type": "stream",
     "text": [
      "開獎期數： 111/4/11 第111000086期 \n",
      "開出順序：12  16  15  21  13  05  19  01  11  04  23  02  \n",
      "大小順序：01  02  04  05  11  12  13  15  16  19  21  23  "
     ]
    }
   ],
   "source": [
    "data1=sp.find(\"div\",class_=\"contents_box06\")\n",
    "\n",
    "title=data1.find(\"span\",class_=\"font_black15\")\n",
    "print(\"開獎期數：\",title.text)\n",
    "num=data1.find_all(\"div\",class_=\"ball_tx ball_blue\")  \n",
    "# print(ball) \n",
    "print(\"開出順序：\",end=\"\")  \n",
    "for i in range(12):\n",
    "    print(num[i].text,end=' ') \n",
    "print()\n",
    "print(\"大小順序：\",end=\"\")\n",
    "for i in range(12,24):\n",
    "    print(num[i].text,end=' ')"
   ]
  },
  {
   "cell_type": "markdown",
   "id": "e269bfdb",
   "metadata": {},
   "source": [
    "----"
   ]
  },
  {
   "cell_type": "markdown",
   "id": "2572c8fd",
   "metadata": {},
   "source": [
    "# 大樂透"
   ]
  },
  {
   "cell_type": "code",
   "execution_count": 7,
   "id": "cb986b2b",
   "metadata": {},
   "outputs": [
    {
     "name": "stdout",
     "output_type": "stream",
     "text": [
      "開獎期數： 111/4/8 第111000038期 \n",
      "開出順序：29  10  44  15  31  19  \n",
      "大小順序：10  15  19  29  31  44  \n",
      "特別號： 23 \n"
     ]
    }
   ],
   "source": [
    "data1=sp.find_all(\"div\",class_=\"contents_box02\")\n",
    "data2=data1[2]  #大樂透是contents_box02中的第三組\n",
    "title=data2.find(\"span\",class_=\"font_black15\")\n",
    "print(\"開獎期數：\",title.text)\n",
    "bigball=data2.find_all(\"div\",class_=\"ball_tx ball_yellow\")  \n",
    "print(\"開出順序：\",end=\"\")  \n",
    "for i in range(6):\n",
    "    print(bigball[i].text,end=' ') \n",
    "print()\n",
    "print(\"大小順序：\",end=\"\")\n",
    "for i in range(6,12):\n",
    "    print(bigball[i].text,end=' ')\n",
    "print()\n",
    "sp_bigball=data2.find(\"div\",class_=\"ball_red\").text  # 抓特別號\n",
    "print(\"特別號：\",sp_bigball)"
   ]
  },
  {
   "cell_type": "markdown",
   "id": "8c1b5a75",
   "metadata": {},
   "source": [
    "----"
   ]
  },
  {
   "cell_type": "markdown",
   "id": "f03851cb",
   "metadata": {},
   "source": [
    "# 38樂合彩"
   ]
  },
  {
   "cell_type": "code",
   "execution_count": 8,
   "id": "548a499d",
   "metadata": {},
   "outputs": [
    {
     "name": "stdout",
     "output_type": "stream",
     "text": [
      "開獎期數： 111/4/11 第111000029期 \n",
      "開出順序：38  05  35  01  26  04  \n",
      "大小順序：01  04  05  26  35  38  "
     ]
    }
   ],
   "source": [
    "data1=sp.find_all(\"div\",class_=\"contents_box02\")\n",
    "data2=data1[1]  #38樂合彩是contents_box02中的第二組\n",
    "title=data2.find(\"span\",class_=\"font_black15\")\n",
    "print(\"開獎期數：\",title.text)\n",
    "num38=data2.find_all(\"div\",class_=\"ball_tx ball_green\")  \n",
    "print(\"開出順序：\",end=\"\")  \n",
    "for i in range(6):\n",
    "    print(num38[i].text,end=' ') \n",
    "print()\n",
    "print(\"大小順序：\",end=\"\")\n",
    "for i in range(6,12):\n",
    "    print(num38[i].text,end=' ')"
   ]
  },
  {
   "cell_type": "markdown",
   "id": "697b1c93",
   "metadata": {},
   "source": [
    "----"
   ]
  },
  {
   "cell_type": "markdown",
   "id": "0e2869e9",
   "metadata": {},
   "source": [
    "# 49樂合彩"
   ]
  },
  {
   "cell_type": "code",
   "execution_count": 9,
   "id": "b9a06c66",
   "metadata": {},
   "outputs": [
    {
     "name": "stdout",
     "output_type": "stream",
     "text": [
      "開獎期數： 111/4/8 第111000038期 \n",
      "開出順序：29  10  44  15  31  19  \n",
      "大小順序：10  15  19  29  31  44  "
     ]
    }
   ],
   "source": [
    "data1=sp.find_all(\"div\",class_=\"contents_box02\")\n",
    "data2=data1[3]  #49樂合彩是contents_box02中的第三組\n",
    "title=data2.find(\"span\",class_=\"font_black15\")\n",
    "print(\"開獎期數：\",title.text)\n",
    "num49=data2.find_all(\"div\",class_=\"ball_tx ball_yellow\")  \n",
    "print(\"開出順序：\",end=\"\")  \n",
    "for i in range(6):\n",
    "    print(num49[i].text,end=' ') \n",
    "print()\n",
    "print(\"大小順序：\",end=\"\")\n",
    "for i in range(6,12):\n",
    "    print(num49[i].text,end=' ')"
   ]
  }
 ],
 "metadata": {
  "kernelspec": {
   "display_name": "Python 3 (ipykernel)",
   "language": "python",
   "name": "python3"
  },
  "language_info": {
   "codemirror_mode": {
    "name": "ipython",
    "version": 3
   },
   "file_extension": ".py",
   "mimetype": "text/x-python",
   "name": "python",
   "nbconvert_exporter": "python",
   "pygments_lexer": "ipython3",
   "version": "3.7.11"
  }
 },
 "nbformat": 4,
 "nbformat_minor": 5
}
